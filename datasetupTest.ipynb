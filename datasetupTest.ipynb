{
 "cells": [
  {
   "cell_type": "markdown",
   "metadata": {},
   "source": [
    "# Dataset Setup Test"
   ]
  },
  {
   "cell_type": "code",
   "execution_count": 1,
   "metadata": {},
   "outputs": [],
   "source": [
    "from src.data.datasetup import AmazonDatasetSetup\n",
    "import pandas as pd\n",
    "import os"
   ]
  },
  {
   "cell_type": "markdown",
   "metadata": {},
   "source": [
    "### Dataset Test 1"
   ]
  },
  {
   "cell_type": "code",
   "execution_count": 2,
   "metadata": {},
   "outputs": [
    {
     "name": "stdout",
     "output_type": "stream",
     "text": [
      "Reading config file at src/data/datasetConfigAmazon.json\n",
      "Dataset Config set as:\n",
      "{'category': 'All_Beauty',\n",
      " 'urls': {'interactionDataUrl': 'https://datarepo.eng.ucsd.edu/mcauley_group/data/amazon_2023/benchmark/5core/rating_only/',\n",
      "          'metaDataUrl': 'https://datarepo.eng.ucsd.edu/mcauley_group/data/amazon_2023/raw/meta_categories/',\n",
      "          'reviewDataUrl': 'https://datarepo.eng.ucsd.edu/mcauley_group/data/amazon_2023/raw/review_categories/'},\n",
      " 'filterCriteria': {'requiredFields': {'parent_asin': True,\n",
      "                                       'description': False,\n",
      "                                       'images': False,\n",
      "                                       'title': False,\n",
      "                                       'average_rating': False,\n",
      "                                       'features': False,\n",
      "                                       'price': False,\n",
      "                                       'details': False},\n",
      "                    'filterItemsBasedOnFeatures': True,\n",
      "                    'filterkInteractions': 3}}\n",
      "Dataset already downloaded and preprocessed, no further action from DatasetSetup object.\n"
     ]
    }
   ],
   "source": [
    "root=\"data/AmazonReviews\"\n",
    "os.makedirs(root, exist_ok=True)\n",
    "datasetConfig = \"src/data/datasetConfigAmazon.json\"\n",
    "datasetName = \"AmazonAllBeautyDataset\"\n",
    "\n",
    "AmazonAllBeautyDataset = AmazonDatasetSetup(root, datasetConfig, datasetName, devCtrl=False)"
   ]
  },
  {
   "cell_type": "code",
   "execution_count": 3,
   "metadata": {},
   "outputs": [
    {
     "ename": "AttributeError",
     "evalue": "'AmazonDatasetSetup' object has no attribute 'interactionData'",
     "output_type": "error",
     "traceback": [
      "\u001b[0;31m---------------------------------------------------------------------------\u001b[0m",
      "\u001b[0;31mAttributeError\u001b[0m                            Traceback (most recent call last)",
      "Cell \u001b[0;32mIn[3], line 1\u001b[0m\n\u001b[0;32m----> 1\u001b[0m \u001b[43mAmazonAllBeautyDataset\u001b[49m\u001b[38;5;241;43m.\u001b[39;49m\u001b[43minteractionData\u001b[49m\u001b[38;5;241m.\u001b[39muser_id\u001b[38;5;241m.\u001b[39mvalue_counts()\n",
      "\u001b[0;31mAttributeError\u001b[0m: 'AmazonDatasetSetup' object has no attribute 'interactionData'"
     ]
    }
   ],
   "source": [
    "AmazonAllBeautyDataset.interactionData.user_id.value_counts()"
   ]
  },
  {
   "cell_type": "code",
   "execution_count": null,
   "metadata": {},
   "outputs": [],
   "source": [
    "AmazonAllBeautyDataset.interactionData.parent_asin.value_counts()"
   ]
  },
  {
   "cell_type": "code",
   "execution_count": null,
   "metadata": {},
   "outputs": [],
   "source": [
    "AmazonAllBeautyDataset.interactionData.shape"
   ]
  },
  {
   "cell_type": "code",
   "execution_count": null,
   "metadata": {},
   "outputs": [],
   "source": [
    "AmazonAllBeautyDataset.interactionData"
   ]
  },
  {
   "cell_type": "code",
   "execution_count": null,
   "metadata": {},
   "outputs": [],
   "source": [
    "testcsv = pd.read_csv(\"data/AmazonReviews/All_Beauty/raw/Interactions/All_Beauty_Preprocessed.csv.gz\")\n",
    "testcsv"
   ]
  },
  {
   "cell_type": "markdown",
   "metadata": {},
   "source": [
    "### Dataset Test 2"
   ]
  },
  {
   "cell_type": "code",
   "execution_count": null,
   "metadata": {},
   "outputs": [],
   "source": [
    "# Industrial\n",
    "root=\"data/AmazonReviews\"\n",
    "os.makedirs(root, exist_ok=True)\n",
    "datasetConfig = \"src/data/datasetConfigAmazon.json\"\n",
    "datasetName = \"AmazonIndustrialDataset\"\n",
    "\n",
    "AmazonIndustrialDataset = AmazonDatasetSetup(root, datasetConfig, datasetName, devCtrl=False)"
   ]
  },
  {
   "cell_type": "code",
   "execution_count": null,
   "metadata": {},
   "outputs": [],
   "source": [
    "import pandas as pd\n",
    "testcsv = pd.read_csv(\"data/AmazonReviews/Industrial_and_Scientific/raw/Interactions/Industrial_and_Scientific_Preprocessed.csv.gz\")\n",
    "testcsv"
   ]
  },
  {
   "cell_type": "code",
   "execution_count": null,
   "metadata": {},
   "outputs": [],
   "source": [
    "testcsv.user_id.value_counts()"
   ]
  },
  {
   "cell_type": "code",
   "execution_count": null,
   "metadata": {},
   "outputs": [],
   "source": [
    "testcsv.parent_asin.value_counts()"
   ]
  },
  {
   "cell_type": "markdown",
   "metadata": {},
   "source": [
    "# Graph Datasets Test"
   ]
  },
  {
   "cell_type": "code",
   "execution_count": 4,
   "metadata": {},
   "outputs": [
    {
     "name": "stdout",
     "output_type": "stream",
     "text": [
      "Reading config file at src/data/datasetConfigAmazon.json\n",
      "Dataset Config set as:\n",
      "{'category': 'Industrial_and_Scientific',\n",
      " 'urls': {'interactionDataUrl': 'https://datarepo.eng.ucsd.edu/mcauley_group/data/amazon_2023/benchmark/5core/rating_only/',\n",
      "          'metaDataUrl': 'https://datarepo.eng.ucsd.edu/mcauley_group/data/amazon_2023/raw/meta_categories/',\n",
      "          'reviewDataUrl': 'https://datarepo.eng.ucsd.edu/mcauley_group/data/amazon_2023/raw/review_categories/'},\n",
      " 'filterCriteria': {'requiredFields': {'parent_asin': True,\n",
      "                                       'description': True,\n",
      "                                       'images': True,\n",
      "                                       'title': True,\n",
      "                                       'average_rating': False,\n",
      "                                       'features': False,\n",
      "                                       'price': False,\n",
      "                                       'details': False},\n",
      "                    'filterItemsBasedOnFeatures': True,\n",
      "                    'filterkInteractions': 5}}\n",
      "Dataset already downloaded and preprocessed, no further action from DatasetSetup object.\n"
     ]
    }
   ],
   "source": [
    "# Industrial\n",
    "root=\"data/AmazonReviews\"\n",
    "os.makedirs(root, exist_ok=True)\n",
    "datasetConfig = \"src/data/datasetConfigAmazon.json\"\n",
    "datasetName = \"AmazonIndustrialDataset\"\n",
    "\n",
    "AmazonIndustrialDataset = AmazonDatasetSetup(root, datasetConfig, datasetName, devCtrl=False)"
   ]
  },
  {
   "cell_type": "code",
   "execution_count": 5,
   "metadata": {},
   "outputs": [],
   "source": [
    "from src.data.graphDatasets import AmazonGraphDataset\n",
    "from src.data.utils import binarizeEdgesByThreshold"
   ]
  },
  {
   "cell_type": "code",
   "execution_count": 6,
   "metadata": {},
   "outputs": [],
   "source": [
    "rating_threshold = 3  #@param {type: \"integer\"}: Ratings equal to or greater than 3 are positive items.\n",
    "\n",
    "config_dict = {\n",
    "    \"num_samples_per_user\": 500,\n",
    "    \"num_users\": 200,\n",
    "\n",
    "    \"epochs\": 100,\n",
    "    \"batch_size\": 128,\n",
    "    \"lr\": 0.001,\n",
    "    \"weight_decay\": 0.1,\n",
    "\n",
    "    \"embedding_size\": 64,\n",
    "    \"num_layers\": 5,\n",
    "    \"K\": 10,\n",
    "    \"mf_rank\": 8,\n",
    "\n",
    "    \"minibatch_per_print\": 100,\n",
    "    \"epochs_per_print\": 1,\n",
    "\n",
    "    \"val_frac\": 0.2,\n",
    "    \"test_frac\": 0.1,\n",
    "\n",
    "    \"model_name\": \"model.pth\"\n",
    "}"
   ]
  },
  {
   "cell_type": "code",
   "execution_count": 7,
   "metadata": {},
   "outputs": [],
   "source": [
    "amazonIndustrialDataset = AmazonGraphDataset(\n",
    "    datasetSetup = AmazonIndustrialDataset,\n",
    "    config_dict = config_dict,\n",
    "    rating_threshold = rating_threshold,\n",
    "    transform=binarizeEdgesByThreshold\n",
    ")"
   ]
  },
  {
   "cell_type": "code",
   "execution_count": 8,
   "metadata": {},
   "outputs": [
    {
     "data": {
      "text/plain": [
       "'data_amazon_Industrial_and_Scientific.pt'"
      ]
     },
     "execution_count": 8,
     "metadata": {},
     "output_type": "execute_result"
    }
   ],
   "source": [
    "amazonIndustrialDataset.processed_file_names"
   ]
  },
  {
   "cell_type": "code",
   "execution_count": 9,
   "metadata": {},
   "outputs": [
    {
     "name": "stdout",
     "output_type": "stream",
     "text": [
      "Processing finished.\n"
     ]
    }
   ],
   "source": [
    "amazonIndustrialDataset.process()"
   ]
  },
  {
   "cell_type": "code",
   "execution_count": null,
   "metadata": {},
   "outputs": [
    {
     "name": "stderr",
     "output_type": "stream",
     "text": [
      "/Users/timthiele/Documents/Uni/Masterthesis/MLLM_RecSys/src/data/graphDatasets.py:114: FutureWarning: You are using `torch.load` with `weights_only=False` (the current default value), which uses the default pickle module implicitly. It is possible to construct malicious pickle data which will execute arbitrary code during unpickling (See https://github.com/pytorch/pytorch/blob/main/SECURITY.md#untrusted-models for more details). In a future release, the default value for `weights_only` will be flipped to `True`. This limits the functions that could be executed during unpickling. Arbitrary objects will no longer be allowed to be loaded via this mode unless they are explicitly allowlisted by the user via `torch.serialization.add_safe_globals`. We recommend you start setting `weights_only=True` for any use case where you don't have full control of the loaded file. Please open an issue on GitHub for any issues related to this experimental feature.\n",
      "  data = torch.load(os.path.join(self.processed_dir, f\"data_amazon_{self.datasetSetup.category}.pt\"))\n"
     ]
    },
    {
     "ename": "AttributeError",
     "evalue": "'numpy.ndarray' object has no attribute 'unique'",
     "output_type": "error",
     "traceback": [
      "\u001b[0;31m---------------------------------------------------------------------------\u001b[0m",
      "\u001b[0;31mAttributeError\u001b[0m                            Traceback (most recent call last)",
      "Cell \u001b[0;32mIn[10], line 7\u001b[0m\n\u001b[1;32m      1\u001b[0m data \u001b[38;5;241m=\u001b[39m amazonIndustrialDataset\u001b[38;5;241m.\u001b[39mget()\n\u001b[1;32m      3\u001b[0m train_mask, val_mask, test_mask \u001b[38;5;241m=\u001b[39m \\\n\u001b[1;32m      4\u001b[0m         amazonIndustrialDataset\u001b[38;5;241m.\u001b[39mtrain_val_test_split(val_frac\u001b[38;5;241m=\u001b[39mconfig_dict[\u001b[38;5;124m\"\u001b[39m\u001b[38;5;124mval_frac\u001b[39m\u001b[38;5;124m\"\u001b[39m],\n\u001b[1;32m      5\u001b[0m                                        test_frac\u001b[38;5;241m=\u001b[39mconfig_dict[\u001b[38;5;124m\"\u001b[39m\u001b[38;5;124mtest_frac\u001b[39m\u001b[38;5;124m\"\u001b[39m])\n\u001b[0;32m----> 7\u001b[0m n_users \u001b[38;5;241m=\u001b[39m \u001b[38;5;28mlen\u001b[39m(\u001b[43mdata\u001b[49m\u001b[43m[\u001b[49m\u001b[38;5;124;43m\"\u001b[39;49m\u001b[38;5;124;43musers\u001b[39;49m\u001b[38;5;124;43m\"\u001b[39;49m\u001b[43m]\u001b[49m\u001b[38;5;241;43m.\u001b[39;49m\u001b[43munique\u001b[49m())\n\u001b[1;32m      8\u001b[0m m_items \u001b[38;5;241m=\u001b[39m \u001b[38;5;28mlen\u001b[39m(data[\u001b[38;5;124m\"\u001b[39m\u001b[38;5;124mitems\u001b[39m\u001b[38;5;124m\"\u001b[39m]\u001b[38;5;241m.\u001b[39munique())\n\u001b[1;32m      9\u001b[0m \u001b[38;5;28mprint\u001b[39m(\u001b[38;5;124mf\u001b[39m\u001b[38;5;124m\"\u001b[39m\u001b[38;5;124m#Users: \u001b[39m\u001b[38;5;132;01m{\u001b[39;00mn_users\u001b[38;5;132;01m}\u001b[39;00m\u001b[38;5;124m\"\u001b[39m)\n",
      "\u001b[0;31mAttributeError\u001b[0m: 'numpy.ndarray' object has no attribute 'unique'"
     ]
    }
   ],
   "source": [
    "data = amazonIndustrialDataset.get()\n",
    "\n",
    "train_mask, val_mask, test_mask = \\\n",
    "        amazonIndustrialDataset.train_val_test_split(val_frac=config_dict[\"val_frac\"],\n",
    "                                       test_frac=config_dict[\"test_frac\"])\n",
    "\n",
    "n_users = len(pd.Series(data[\"users\"]).unique())\n",
    "m_items = len(pd.Series(data[\"items\"]).unique())\n",
    "print(f\"#Users: {n_users}\")\n",
    "print(f\"#Items: {m_items}\")"
   ]
  }
 ],
 "metadata": {
  "kernelspec": {
   "display_name": "pytorch-geometric",
   "language": "python",
   "name": "python3"
  },
  "language_info": {
   "codemirror_mode": {
    "name": "ipython",
    "version": 3
   },
   "file_extension": ".py",
   "mimetype": "text/x-python",
   "name": "python",
   "nbconvert_exporter": "python",
   "pygments_lexer": "ipython3",
   "version": "3.12.7"
  }
 },
 "nbformat": 4,
 "nbformat_minor": 2
}
