{
 "cells": [
  {
   "cell_type": "code",
   "execution_count": null,
   "metadata": {},
   "outputs": [],
   "source": [
    "\"\"\"\n",
    "from CoLLM paper\n",
    "\n",
    "ML-1M\n",
    "preserve the interactions from the most recent twenty months, using the first 10 months for training, the middle 5 months for validation, and the last 5 months for testing\n",
    "Train: 33,891\n",
    "Valid: 10,401\n",
    "Test: 7,331\n",
    "User: 839\n",
    "Item: 3,256\n",
    "\n",
    "\n",
    "Amazon-Book dataset\n",
    "preserve interactions from the year 2017 (including about 4 million interactions)\n",
    "allocating the first 11 months for training, and the remaining two half months for validation and testing, respectively\n",
    "\n",
    "filtered out users and items with fewer than 20 interactions to ensure data quality for measuring warm-start performance\n",
    "\n",
    "Train: 727,468\n",
    "Valid: 25,747\n",
    "Test: 25,747\n",
    "User: 22,967\n",
    "Item: 34,154\n",
    "\"\"\""
   ]
  },
  {
   "cell_type": "code",
   "execution_count": 1,
   "metadata": {},
   "outputs": [
    {
     "name": "stderr",
     "output_type": "stream",
     "text": [
      "/Users/timthiele/miniforge3/envs/pytorch-geometric/lib/python3.12/site-packages/tqdm/auto.py:21: TqdmWarning: IProgress not found. Please update jupyter and ipywidgets. See https://ipywidgets.readthedocs.io/en/stable/user_install.html\n",
      "  from .autonotebook import tqdm as notebook_tqdm\n"
     ]
    }
   ],
   "source": [
    "from src.data.datasets import AmazonDataset\n",
    "from src.data.graphDatasets import AmazonGraphDataset"
   ]
  },
  {
   "cell_type": "code",
   "execution_count": 2,
   "metadata": {},
   "outputs": [],
   "source": [
    "import os"
   ]
  },
  {
   "cell_type": "code",
   "execution_count": 3,
   "metadata": {},
   "outputs": [
    {
     "name": "stdout",
     "output_type": "stream",
     "text": [
      "Reading config file at src/data/datasetConfigAmazon.json\n",
      "Dataset Config set as:\n",
      "{'category': 'All_Beauty',\n",
      " 'urls': {'interactionDataUrl': 'https://datarepo.eng.ucsd.edu/mcauley_group/data/amazon_2023/benchmark/5core/timestamp_w_his/',\n",
      "          'metaDataUrl': 'https://datarepo.eng.ucsd.edu/mcauley_group/data/amazon_2023/raw/meta_categories/',\n",
      "          'reviewDataUrl': 'https://datarepo.eng.ucsd.edu/mcauley_group/data/amazon_2023/raw/review_categories/'},\n",
      " 'required_fields': {'parent_asin': True,\n",
      "                     'description': True,\n",
      "                     'images': True,\n",
      "                     'title': True,\n",
      "                     'average_rating': False,\n",
      "                     'features': False,\n",
      "                     'price': False,\n",
      "                     'details': False}}\n",
      "Self.root of class AmazonDataset is data/AmazonReviews/All_Beauty\n",
      "downloadInteractionData executed in 0 hours, 0 minutes, 0 seconds.\n",
      "\n",
      "downloadItemDataAsJSON executed in 0 hours, 0 minutes, 0 seconds.\n",
      "\n",
      "Unwrapped dataset from data/AmazonReviews/All_Beauty/raw/Items/meta_All_Beauty.jsonl.gz\n",
      "Saved 29 from a total of 100 lines.\n",
      "unwrapItemData executed in 0 hours, 0 minutes, 0 seconds.\n",
      "\n"
     ]
    }
   ],
   "source": [
    "root=\"data/AmazonReviews\"\n",
    "os.makedirs(root, exist_ok=True)\n",
    "datasetConfig = \"src/data/datasetConfigAmazon.json\"\n",
    "datasetName = \"AmazonAllBeautyDataset\"\n",
    "\n",
    "AmazonAllBeautyDataset = AmazonDataset(root, datasetConfig, datasetName)"
   ]
  },
  {
   "cell_type": "code",
   "execution_count": 4,
   "metadata": {},
   "outputs": [
    {
     "name": "stdout",
     "output_type": "stream",
     "text": [
      "Reading config file at src/data/datasetConfigAmazon.json\n",
      "Dataset Config set as:\n",
      "{'category': 'All_Beauty',\n",
      " 'urls': {'interactionDataUrl': 'https://datarepo.eng.ucsd.edu/mcauley_group/data/amazon_2023/benchmark/5core/timestamp_w_his/',\n",
      "          'metaDataUrl': 'https://datarepo.eng.ucsd.edu/mcauley_group/data/amazon_2023/raw/meta_categories/',\n",
      "          'reviewDataUrl': 'https://datarepo.eng.ucsd.edu/mcauley_group/data/amazon_2023/raw/review_categories/'},\n",
      " 'required_fields': {'parent_asin': True,\n",
      "                     'description': True,\n",
      "                     'images': True,\n",
      "                     'title': True,\n",
      "                     'average_rating': False,\n",
      "                     'features': False,\n",
      "                     'price': False,\n",
      "                     'details': False}}\n",
      "Self.root of class AmazonDataset is data/AmazonReviews/All_Beauty\n",
      "downloadInteractionData executed in 0 hours, 0 minutes, 0 seconds.\n",
      "\n",
      "downloadItemDataAsJSON executed in 0 hours, 0 minutes, 0 seconds.\n",
      "\n",
      "Unwrapped dataset from data/AmazonReviews/All_Beauty/raw/Items/meta_All_Beauty.jsonl.gz\n",
      "Saved 29 from a total of 100 lines.\n",
      "unwrapItemData executed in 0 hours, 0 minutes, 0 seconds.\n",
      "\n",
      "Self.root of class AmazonGraphDataset is data/AmazonReviews/All_Beauty\n",
      "Saved train_user_mapping.json to data/AmazonReviews/All_Beauty/Mappings\n",
      "Saved train_item_mapping.json to data/AmazonReviews/All_Beauty/Mappings\n",
      "Saved valid_user_mapping.json to data/AmazonReviews/All_Beauty/Mappings\n",
      "Saved valid_item_mapping.json to data/AmazonReviews/All_Beauty/Mappings\n",
      "Saved test_user_mapping.json to data/AmazonReviews/All_Beauty/Mappings\n",
      "Saved test_item_mapping.json to data/AmazonReviews/All_Beauty/Mappings\n"
     ]
    },
    {
     "name": "stderr",
     "output_type": "stream",
     "text": [
      "/Users/timthiele/Documents/Uni/Masterthesis/MLLM_RecSys/src/data/graphDatasets.py:88: UserWarning: Creating a tensor from a list of numpy.ndarrays is extremely slow. Please consider converting the list to a single numpy.ndarray with numpy.array() before converting to a tensor. (Triggered internally at /Users/runner/miniforge3/conda-bld/libtorch_1729805363309/work/torch/csrc/utils/tensor_new.cpp:281.)\n",
      "  edge_index_COO_format = torch.tensor([user_ids, item_ids], dtype=torch.long)\n"
     ]
    }
   ],
   "source": [
    "root=\"data/AmazonReviews\"\n",
    "os.makedirs(root, exist_ok=True)\n",
    "datasetConfig = \"src/data/datasetConfigAmazon.json\"\n",
    "datasetName = \"AmazonAllBeautyDataset\"\n",
    "\n",
    "AmazonAllBeautyGraphDataset = AmazonGraphDataset(root, datasetConfig, datasetName)"
   ]
  },
  {
   "cell_type": "code",
   "execution_count": 5,
   "metadata": {},
   "outputs": [
    {
     "data": {
      "text/plain": [
       "{'edge_index': tensor([[  0,   0,   0,  ...,  61,  61,  61],\n",
       "        [ 62,  63,  64,  ..., 220, 312, 193]]), 'y': tensor([[5.],\n",
       "        [4.],\n",
       "        [4.],\n",
       "        ...,\n",
       "        [3.],\n",
       "        [5.],\n",
       "        [3.]])}"
      ]
     },
     "execution_count": 5,
     "metadata": {},
     "output_type": "execute_result"
    }
   ],
   "source": [
    "AmazonAllBeautyGraphDataset.trainingData['user', 'item']"
   ]
  },
  {
   "cell_type": "code",
   "execution_count": null,
   "metadata": {},
   "outputs": [
    {
     "data": {
      "text/plain": [
       "{'x': tensor([[ 0.],\n",
       "        [ 1.],\n",
       "        [ 2.],\n",
       "        [ 3.],\n",
       "        [ 4.],\n",
       "        [ 5.],\n",
       "        [ 6.],\n",
       "        [ 7.],\n",
       "        [ 8.],\n",
       "        [ 9.],\n",
       "        [10.],\n",
       "        [11.],\n",
       "        [12.],\n",
       "        [13.],\n",
       "        [14.],\n",
       "        [15.],\n",
       "        [16.],\n",
       "        [17.],\n",
       "        [18.],\n",
       "        [19.],\n",
       "        [20.],\n",
       "        [21.],\n",
       "        [22.],\n",
       "        [23.],\n",
       "        [24.],\n",
       "        [25.],\n",
       "        [26.],\n",
       "        [27.],\n",
       "        [28.],\n",
       "        [29.],\n",
       "        [30.],\n",
       "        [31.],\n",
       "        [32.],\n",
       "        [33.],\n",
       "        [34.],\n",
       "        [35.],\n",
       "        [36.],\n",
       "        [37.],\n",
       "        [38.],\n",
       "        [39.],\n",
       "        [40.],\n",
       "        [41.],\n",
       "        [42.],\n",
       "        [43.],\n",
       "        [44.],\n",
       "        [45.],\n",
       "        [46.],\n",
       "        [47.],\n",
       "        [48.],\n",
       "        [49.],\n",
       "        [50.],\n",
       "        [51.],\n",
       "        [52.],\n",
       "        [53.],\n",
       "        [54.],\n",
       "        [55.],\n",
       "        [56.],\n",
       "        [57.],\n",
       "        [58.],\n",
       "        [59.],\n",
       "        [60.],\n",
       "        [61.]])}"
      ]
     },
     "execution_count": 6,
     "metadata": {},
     "output_type": "execute_result"
    }
   ],
   "source": [
    "AmazonAllBeautyGraphDataset.trainingData['item']"
   ]
  },
  {
   "cell_type": "code",
   "execution_count": null,
   "metadata": {},
   "outputs": [],
   "source": [
    "from src.data.utils import timestampToYear\n",
    "\n",
    "interactionDataTrainingPath = \"data/AmazonReviews/raw/Interactions/All_Beauty.train.csv.gz\"\n",
    "interactionDataTraining = pd.read_csv(interactionDataTrainingPath)\n",
    "\n",
    "# Possibility to filter year\n",
    "# interactionDataTraining[\"year\"] = interactionDataTraining[\"timestamp\"].apply(timestampToYear)\n",
    "\n",
    "# Filter out users < k interactions\n",
    "k = 10\n",
    "frequent_users = interactionDataTraining[\"user_id\"].value_counts()\n",
    "frequent_users_mask = frequent_users[frequent_users > k].index.tolist()\n",
    "interactionDataTraining = interactionDataTraining[interactionDataTraining[\"user_id\"].isin(frequent_users_mask)]"
   ]
  },
  {
   "cell_type": "code",
   "execution_count": null,
   "metadata": {},
   "outputs": [],
   "source": [
    "# Map users items from 0 - count\n",
    "mappingsDir = Path(\"data/AmazonReviews\") / \"Mappings\"\n",
    "\n",
    "interactionDataTraining['user_id_mapped'] = pd.factorize(interactionDataTraining['user_id'])[0]\n",
    "user_first_occurrence_df = interactionDataTraining.drop_duplicates(subset='user_id_mapped', keep='first')\n",
    "user_id_labels, user_id_mapping = pd.factorize(user_first_occurrence_df['user_id'])\n",
    "user_id_dict = {user: int(label) for user, label in zip(user_first_occurrence_df['user_id'].unique(), user_id_labels)}\n",
    "\n",
    "userMappingFileName = 'user_id_mapping.json'\n",
    "userMappingFilePath = mappingsDir / userMappingFileName\n",
    "with open(userMappingFilePath, 'w') as jsonFile:\n",
    "    json.dump(user_id_dict, jsonFile, indent=4)\n",
    "\n",
    "# items\n",
    "no_nodes_offset = len(user_id_dict)\n",
    "interactionDataTraining['parent_asin_mapped'] = pd.factorize(interactionDataTraining['parent_asin'])[0] + no_nodes_offset\n",
    "item_first_occurrence_df = interactionDataTraining.drop_duplicates(subset='parent_asin_mapped', keep='first')\n",
    "item_id_labels, item_id_mapping = pd.factorize(item_first_occurrence_df['parent_asin'])\n",
    "item_id_dict = {item: int(label) + no_nodes_offset for item, label in zip(item_first_occurrence_df['parent_asin'].unique(), item_id_labels)}\n",
    "\n",
    "itemMappingFileName = 'parent_asin_mapping.json'\n",
    "itemMappingFilePath = mappingsDir / itemMappingFileName\n",
    "with open(itemMappingFilePath, 'w') as jsonFile:\n",
    "    json.dump(item_id_dict, jsonFile, indent=4)\n"
   ]
  },
  {
   "cell_type": "code",
   "execution_count": null,
   "metadata": {},
   "outputs": [],
   "source": [
    "interactionDataTraining"
   ]
  },
  {
   "cell_type": "code",
   "execution_count": null,
   "metadata": {},
   "outputs": [],
   "source": [
    "assert len(interactionDataTraining[\"user_id_mapped\"]) == len(interactionDataTraining[\"parent_asin_mapped\"])\n",
    "\n",
    "user_ids = interactionDataTraining[\"user_id_mapped\"].to_numpy()\n",
    "item_ids = interactionDataTraining[\"parent_asin_mapped\"].to_numpy()\n",
    "\n",
    "edge_index_COO_format = torch.tensor([user_ids, item_ids], dtype=torch.float)\n",
    "edge_index_COO_format, edge_index_COO_format.shape"
   ]
  },
  {
   "cell_type": "code",
   "execution_count": null,
   "metadata": {},
   "outputs": [],
   "source": [
    "ratings = interactionDataTraining[\"rating\"].to_numpy()\n",
    "edge_attr = torch.tensor(ratings, dtype=torch.float).view(-1, 1)\n",
    "edge_attr, edge_attr.shape"
   ]
  },
  {
   "cell_type": "code",
   "execution_count": null,
   "metadata": {},
   "outputs": [],
   "source": [
    "edge_index_w_attr_COO_format = torch.concat((edge_index_COO_format, edge_attr.T))\n",
    "edge_index_w_attr_COO_format, edge_index_w_attr_COO_format.shape"
   ]
  },
  {
   "cell_type": "code",
   "execution_count": null,
   "metadata": {},
   "outputs": [],
   "source": [
    "user_node_features = torch.Tensor(interactionDataTraining[\"user_id_mapped\"].unique().tolist()).unsqueeze(dim=-1)\n",
    "item_node_features = torch.Tensor(interactionDataTraining[\"parent_asin_mapped\"].unique().tolist()).unsqueeze(dim=-1)\n",
    "\n",
    "user_node_features.shape, item_node_features.shape"
   ]
  },
  {
   "cell_type": "code",
   "execution_count": null,
   "metadata": {},
   "outputs": [],
   "source": [
    "# https://pytorch-geometric.readthedocs.io/en/latest/notes/heterogeneous.html#creating-heterogeneous-graphs\n",
    "\n",
    "from torch_geometric.data import HeteroData\n",
    "data = HeteroData()\n",
    "data['user'].x = user_node_features\n",
    "data['movie'].x = item_node_features\n",
    "data['user', 'movie'].edge_index = edge_index_COO_format\n",
    "data['user', 'movie'].y = edge_attr"
   ]
  },
  {
   "cell_type": "code",
   "execution_count": null,
   "metadata": {},
   "outputs": [],
   "source": [
    "data"
   ]
  },
  {
   "cell_type": "code",
   "execution_count": null,
   "metadata": {},
   "outputs": [],
   "source": [
    "from torch_geometric.transforms import ToUndirected\n",
    "\n",
    "data = ToUndirected()(data)\n",
    "del data['movie', 'rev_rates', 'user'].edge_label  # Remove \"reverse\" label."
   ]
  },
  {
   "cell_type": "code",
   "execution_count": null,
   "metadata": {},
   "outputs": [],
   "source": [
    "data"
   ]
  },
  {
   "cell_type": "code",
   "execution_count": null,
   "metadata": {},
   "outputs": [],
   "source": [
    "# data = data.to(device)\n",
    "# do we have a neg_sampling_ratio command somewhere?\n"
   ]
  },
  {
   "cell_type": "code",
   "execution_count": null,
   "metadata": {},
   "outputs": [],
   "source": [
    "# do we have a neg_sampling_ratio command somewhere?"
   ]
  },
  {
   "cell_type": "code",
   "execution_count": null,
   "metadata": {},
   "outputs": [],
   "source": [
    "# Only save the whole timeseries in the training data\n",
    "interactionDataTraining[\"interaction_count\"] = interactionDataTraining[\"history\"].apply(\n",
    "    lambda x: len(x.split()) if isinstance(x, str) else 0\n",
    ")\n",
    "max_interaction_idx = interactionDataTraining.groupby('user_id')['interaction_count'].idxmax()\n",
    "interactionDataTraining_filtered = interactionDataTraining.loc[max_interaction_idx]\n",
    "\n",
    "\n",
    "interactionDataTraining_filtered"
   ]
  },
  {
   "cell_type": "code",
   "execution_count": null,
   "metadata": {},
   "outputs": [],
   "source": [
    "# store data in process directory !!!"
   ]
  }
 ],
 "metadata": {
  "kernelspec": {
   "display_name": "pytorch-geometric",
   "language": "python",
   "name": "python3"
  },
  "language_info": {
   "codemirror_mode": {
    "name": "ipython",
    "version": 3
   },
   "file_extension": ".py",
   "mimetype": "text/x-python",
   "name": "python",
   "nbconvert_exporter": "python",
   "pygments_lexer": "ipython3",
   "version": "3.12.7"
  }
 },
 "nbformat": 4,
 "nbformat_minor": 2
}
